{
  "nbformat": 4,
  "nbformat_minor": 0,
  "metadata": {
    "colab": {
      "provenance": []
    },
    "kernelspec": {
      "name": "python3",
      "display_name": "Python 3"
    },
    "language_info": {
      "name": "python"
    }
  },
  "cells": [
    {
      "cell_type": "code",
      "execution_count": 1,
      "metadata": {
        "id": "RL8o6lLn0iOD"
      },
      "outputs": [],
      "source": [
        "import numpy as np"
      ]
    },
    {
      "cell_type": "markdown",
      "source": [
        "**step function**"
      ],
      "metadata": {
        "id": "VXzLBGXZ1Fko"
      }
    },
    {
      "cell_type": "markdown",
      "source": [
        "**a função de ativação define como a saída de um neurônio vai influenciar os neurônios da camada seguinte retorna 0  ou 1**  "
      ],
      "metadata": {
        "id": "T90TI75TyGWf"
      }
    },
    {
      "cell_type": "code",
      "source": [
        "def step_function(soma):\n",
        "  if soma >= 1:\n",
        "    return 1\n",
        "  return 0"
      ],
      "metadata": {
        "id": "1kJ4OVeY1yfe"
      },
      "execution_count": 2,
      "outputs": []
    },
    {
      "cell_type": "code",
      "source": [
        "step_function(-10)"
      ],
      "metadata": {
        "colab": {
          "base_uri": "https://localhost:8080/"
        },
        "id": "JjOkgZS9Rste",
        "outputId": "7f35949b-7143-421b-adc2-aa99d72a23c2"
      },
      "execution_count": 3,
      "outputs": [
        {
          "output_type": "execute_result",
          "data": {
            "text/plain": [
              "0"
            ]
          },
          "metadata": {},
          "execution_count": 3
        }
      ]
    },
    {
      "cell_type": "code",
      "source": [
        "step_function(10)"
      ],
      "metadata": {
        "colab": {
          "base_uri": "https://localhost:8080/"
        },
        "id": "LQJS0rCE1_nI",
        "outputId": "f960ffe6-4747-4b87-ecda-724a2de71b86"
      },
      "execution_count": 4,
      "outputs": [
        {
          "output_type": "execute_result",
          "data": {
            "text/plain": [
              "1"
            ]
          },
          "metadata": {},
          "execution_count": 4
        }
      ]
    },
    {
      "cell_type": "markdown",
      "source": [
        "SIGMOID"
      ],
      "metadata": {
        "id": "rtHMnW1WP_Cv"
      }
    },
    {
      "cell_type": "markdown",
      "source": [
        "RETORNA A PROBABILIDADE ENTRE DUAS CLASSES \"VALORES ENTRE 0 E 1\""
      ],
      "metadata": {
        "id": "G7Gasli8QQcp"
      }
    },
    {
      "cell_type": "code",
      "source": [
        "def sigmoid_function(soma):\n",
        "  return 1 / (1 + np.exp(-soma))    # \"exp\" expoente"
      ],
      "metadata": {
        "id": "b2L6BK9gP-X0"
      },
      "execution_count": 20,
      "outputs": []
    },
    {
      "cell_type": "code",
      "source": [
        "sigmoid_function(2.1)"
      ],
      "metadata": {
        "colab": {
          "base_uri": "https://localhost:8080/"
        },
        "id": "3j8ORFYMQ0Iv",
        "outputId": "0b67aa4e-ca93-4d95-8bc6-3ed60b548ee8"
      },
      "execution_count": 21,
      "outputs": [
        {
          "output_type": "execute_result",
          "data": {
            "text/plain": [
              "0.8909031788043871"
            ]
          },
          "metadata": {},
          "execution_count": 21
        }
      ]
    },
    {
      "cell_type": "markdown",
      "source": [
        "TANGENTE HIPERBOLICA\n"
      ],
      "metadata": {
        "id": "T6N2-A7bR20d"
      }
    },
    {
      "cell_type": "markdown",
      "source": [
        "Usada em problemas mais complexos na area de visao computacional"
      ],
      "metadata": {
        "id": "Fj1Akco0SeUl"
      }
    },
    {
      "cell_type": "code",
      "source": [
        "def tanh_function(soma):\n",
        "  return (np.exp(soma) - np.exp(-soma)) / (np.exp(soma) + np.exp(-soma))\n",
        "\n",
        "#A função np.exp() da biblioteca NumPy calcula a exponencial de um número, ou seja, 𝑒 𝑥 e x , onde 𝑒 e é o número de Euler (aproximadamente 2,718)"
      ],
      "metadata": {
        "id": "ebqTthrySf31"
      },
      "execution_count": 22,
      "outputs": []
    },
    {
      "cell_type": "code",
      "source": [
        "tanh_function(2.1)"
      ],
      "metadata": {
        "colab": {
          "base_uri": "https://localhost:8080/"
        },
        "id": "4U2V7ZRDUeq-",
        "outputId": "fb8db2f9-2eb3-47c3-9aef-3bc04f023cc1"
      },
      "execution_count": 23,
      "outputs": [
        {
          "output_type": "execute_result",
          "data": {
            "text/plain": [
              "0.9704519366134541"
            ]
          },
          "metadata": {},
          "execution_count": 23
        }
      ]
    },
    {
      "cell_type": "markdown",
      "source": [
        "**ReLU**(Rectified linear units)"
      ],
      "metadata": {
        "id": "_GGHP-oKoOUw"
      }
    },
    {
      "cell_type": "markdown",
      "source": [
        "usado em problemas de deeplearning"
      ],
      "metadata": {
        "id": "fVBlzgCRpZGA"
      }
    },
    {
      "cell_type": "code",
      "source": [
        "def relu_function(soma):\n",
        "  if soma >= 0:\n",
        "    return soma\n",
        "  return 0\n",
        "\n",
        "relu_function(2.1)\n"
      ],
      "metadata": {
        "colab": {
          "base_uri": "https://localhost:8080/"
        },
        "id": "DiTMlKPApPbP",
        "outputId": "52e30500-5fce-4414-eb80-8556a215455a"
      },
      "execution_count": 24,
      "outputs": [
        {
          "output_type": "execute_result",
          "data": {
            "text/plain": [
              "2.1"
            ]
          },
          "metadata": {},
          "execution_count": 24
        }
      ]
    },
    {
      "cell_type": "markdown",
      "source": [
        "SoftMax\n"
      ],
      "metadata": {
        "id": "KtA9hKHAp3wD"
      }
    },
    {
      "cell_type": "markdown",
      "source": [
        "usada em"
      ],
      "metadata": {
        "id": "TEatDI9Hp63n"
      }
    },
    {
      "cell_type": "code",
      "source": [
        "def softmax_function(x):\n",
        "  ex = np.exp(x)\n",
        "  return ex / ex.sum()\n"
      ],
      "metadata": {
        "colab": {
          "base_uri": "https://localhost:8080/"
        },
        "id": "L5WjWA0Bp3CI",
        "outputId": "e5d11147-ad0a-40aa-e6f3-a3edbeffe198"
      },
      "execution_count": 11,
      "outputs": [
        {
          "output_type": "execute_result",
          "data": {
            "text/plain": [
              "1.0"
            ]
          },
          "metadata": {},
          "execution_count": 11
        }
      ]
    },
    {
      "cell_type": "code",
      "source": [
        "softmax_function([7.0, 2.0, 1.3])"
      ],
      "metadata": {
        "colab": {
          "base_uri": "https://localhost:8080/"
        },
        "id": "3I1hTXQ7rdtZ",
        "outputId": "2ca7a6ec-9ce7-4c42-ecbc-9d6864c6350a"
      },
      "execution_count": 16,
      "outputs": [
        {
          "output_type": "execute_result",
          "data": {
            "text/plain": [
              "array([0.99001676, 0.00667068, 0.00331256])"
            ]
          },
          "metadata": {},
          "execution_count": 16
        }
      ]
    },
    {
      "cell_type": "markdown",
      "source": [
        "**Linear**"
      ],
      "metadata": {
        "id": "q_L581uhq3Hm"
      }
    },
    {
      "cell_type": "code",
      "source": [
        "def linear_function(soma):\n",
        "  return soma"
      ],
      "metadata": {
        "id": "N-SuZUGUq28o"
      },
      "execution_count": 17,
      "outputs": []
    },
    {
      "cell_type": "code",
      "source": [
        "linear_function(10)"
      ],
      "metadata": {
        "colab": {
          "base_uri": "https://localhost:8080/"
        },
        "id": "zgLOXPJRrD_p",
        "outputId": "36c4166a-ab5f-4746-d679-3b4ed5dda38a"
      },
      "execution_count": 18,
      "outputs": [
        {
          "output_type": "execute_result",
          "data": {
            "text/plain": [
              "10"
            ]
          },
          "metadata": {},
          "execution_count": 18
        }
      ]
    }
  ]
}